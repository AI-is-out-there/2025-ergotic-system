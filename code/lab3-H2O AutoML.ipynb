# 在 Colab 中安装 H2O
!pip install -f httph2o-release.s3.amazonaws.comh2olatest_stable_Py.html h2o

import h2o
from h2o.automl import H2OAutoML
from sklearn.metrics import confusion_matrix, f1_score
import matplotlib.pyplot as plt
import seaborn as sns

# 初始化 H2O
h2o.init()

# 假设你已有 `df_selected` DataFrame
from google.colab import files
import pandas as pd

# 上传并读取数据
uploaded = files.upload()
df = pd.read_csv(модуль 3 - датасет - практика.csv)

# 选择特征列
cols = ['Count_subj', 'rr_interval', 'p_end', 'qrs_onset', 'qrs_end', 'p_axis', 'qrs_axis', 't_axis', 'Healthy_Status']
df = df[cols].apply(pd.to_numeric, errors='coerce').dropna()

# 转为 H2OFrame
hf = h2o.H2OFrame(df)
hf['Healthy_Status'] = hf['Healthy_Status'].asfactor()

# 划分训练和测试
train, test = hf.split_frame(ratios=[0.8], seed=42)
features = cols[-1]
target = 'Healthy_Status'

# 启动 AutoML
aml = H2OAutoML(max_runtime_secs=30, seed=1)
aml.train(x=features, y=target, training_frame=train)

# 预测
pred = aml.leader.predict(test).as_data_frame()['predict']
true = test[target].as_data_frame()[target]

# 转换为整数并评估
y_true = true.astype(int)
y_pred = pred.astype(int)
cm = confusion_matrix(y_true, y_pred)
f1 = f1_score(y_true, y_pred)

# 显示混淆矩阵
sns.heatmap(cm, annot=True, fmt='d', cmap='YlGnBu')
plt.title(fH2O AutoML Confusion Matrix (F1-score = {f1.2f}))
plt.xlabel(Predicted)
plt.ylabel(True)
plt.show()
