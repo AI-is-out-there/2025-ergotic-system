# 正确的版本组合
!pip install numpy==1.26.4 pandas==2.2.2 lightautoml -U --quiet

# 重启运行时（Colab 运行）
import os
os.kill(os.getpid(), 9)

# 安装 LightAutoML
!pip install -U lightautoml

import pandas as pd
import seaborn as sns
import matplotlib.pyplot as plt
from sklearn.model_selection import train_test_split
from sklearn.metrics import confusion_matrix, f1_score

# LightAutoML 导入
from lightautoml.tasks import Task
from lightautoml.automl.presets.tabular_presets import TabularAutoML

# 读取数据（你可上传文件后用 pd.read_csv 读取）
df = pd.read_csv("модуль 3 - датасет - практика.csv")

# 选取字段并清洗
cols = ['Count_subj', 'rr_interval', 'p_end', 'qrs_onset', 'qrs_end',
        'p_axis', 'qrs_axis', 't_axis', 'Healthy_Status']
df = df[cols].apply(pd.to_numeric, errors='coerce').dropna()
df['Healthy_Status'] = df['Healthy_Status'].astype(int)

# 划分训练测试集
train, test = train_test_split(df, test_size=0.2, random_state=42)
train = train.rename(columns={'Healthy_Status': 'target'})
test = test.rename(columns={'Healthy_Status': 'target'})

# 定义任务和模型
task = Task('binary')
automl = TabularAutoML(task=task, timeout=60)

# 模型训练与预测
oof = automl.fit_predict(train, roles={'target': 'target'})
preds = automl.predict(test)

# 评估
y_pred = (preds.data[:, 0] > 0.5).astype(int)
y_true = test['target'].values
cm = confusion_matrix(y_true, y_pred)
f1 = f1_score(y_true, y_pred)

# 可视化
sns.heatmap(cm, annot=True, fmt='d', cmap='Greens', xticklabels=["Unhealthy", "Healthy"], yticklabels=["Unhealthy", "Healthy"])
plt.title(f"LightAutoML Confusion Matrix (F1-score = {f1:.2f})")
plt.xlabel("Predicted")
plt.ylabel("True")
plt.show()